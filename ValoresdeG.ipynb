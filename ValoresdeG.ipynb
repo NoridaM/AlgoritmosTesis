{
 "cells": [
  {
   "cell_type": "code",
   "execution_count": 2,
   "metadata": {},
   "outputs": [],
   "source": [
    "from itertools import product\n",
    "import numpy as np\n",
    "import itertools\n",
    "from itertools import combinations\n",
    "from copy import deepcopy\n",
    "from operator import add,mul\n",
    "from collections import defaultdict\n",
    "from collections import Counter\n",
    "from sage.combinat.cartesian_product import CartesianProduct_iters\n",
    "import time\n",
    "\n",
    "#Lista de los vectores de Voronoi.\n",
    "\n",
    "def vectores_voronoi(n):\n",
    "    vectors = n+1\n",
    "    v=[]\n",
    "    for i in range(vectors):\n",
    "        v=v+[var('v{}'.format(i))]\n",
    "    return (v)\n",
    "\n",
    "#Lista de los parámetros de selling.\n",
    "\n",
    "def parametros_selling(n):\n",
    "    r=[]\n",
    "    for i in range(len(vectores_voronoi(n))):\n",
    "        for j in range(len(vectores_voronoi(n))):\n",
    "            if i<j:\n",
    "                r=r+[var('p{}{}'.format(i,j))]\n",
    "    return (r)\n",
    "\n",
    "\n",
    "def gram(n):\n",
    "    P=matrix(SR,n) \n",
    "    for i in range(1,n+1):\n",
    "        for j in range(1,n+1):\n",
    "            if i==j:\n",
    "                s=0                    \n",
    "                for l in range(n+1):\n",
    "                        if l!=i:\n",
    "                            s=s+var('p{}{}'.format(min(i,l),max(i,l))) \n",
    "                P[i-1,j-1]=s\n",
    "            else:\n",
    "                P[i-1,j-1]=-var('p{}{}'.format(min(i,j),max(i,j)))  \n",
    "                P[j-1,i-1]=P[i-1,j-1]\n",
    "    return P\n",
    "\n",
    "    \n",
    "def M(n):\n",
    "    \"\"\"Return the Graham Matrix of an n-dimensional lattice in function of its Selling parameters\"\"\"\n",
    "\n",
    "    M = [[0]*(n)]*(n)\n",
    "    for i in range(n):\n",
    "        M[i] = [-var('p%d%d' % tuple(sorted((i+1,j+1)))) for j in range(n)]\n",
    "        M[i][i] = sum([var('p%d%d' % tuple(sorted((i+1,k)))) for k in range(0,n+1)]) - var('p%d%d' % (i+1,i+1))\n",
    "        \n",
    "    return(Matrix(M))\n",
    "\n",
    "def d(n):\n",
    "    \"\"\"Return the determinant of the Graham Matrix\"\"\"\n",
    "    lis=list(combinations(list(range(n+1)), 2))\n",
    "    c=0\n",
    "    for j in lis:\n",
    "        i=list(j)\n",
    "        c+=var('D%d%d' % tuple(sorted((i[0],i[1]))))*var('p%d%d' % tuple(sorted((i[0],i[1]))))\n",
    "    return c/n\n",
    "\n",
    "\n",
    "def G_conj(n):\n",
    "    \"\"\"R\"\"\"\n",
    "    \n",
    "    G = 0\n",
    "    \n",
    "    Ck = C_k(n+1)\n",
    "    \n",
    "    for g in Ck:\n",
    "        k = Graph(g,multiedges=True).girth()\n",
    "        if k == 2:\n",
    "            G += mono(g)\n",
    "        if k > 2:\n",
    "            G += 2*(k-1)*mono(g)\n",
    "    return(expand(G))\n",
    "\n",
    "\n",
    "def mono(g):\n",
    "    \"\"\"R\"\"\"\n",
    "\n",
    "    mono = 1\n",
    "    for e in g:\n",
    "        mono = mono*var('p%d%d' % (sorted(e)[0],sorted(e)[1]))\n",
    "    return(mono)\n",
    "\n",
    "def C_k(n):\n",
    "    \"\"\"Return all the spanning trees of the complete graph Kn\"\"\"\n",
    "    \n",
    "    P = prufer(n)\n",
    "    \n",
    "    C = []\n",
    "    \n",
    "    for ps in P:\n",
    "        for i in range(n):\n",
    "            for j in range(i+1,n):\n",
    "                c = prufer_to_tree(ps)\n",
    "                c.append([i,j])\n",
    "                if sorted(c) not in C:\n",
    "                    C.append(sorted(c))\n",
    "        \n",
    "    return(C)\n",
    "\n",
    "def prufer_to_tree(ps):\n",
    "    \"\"\"Return the tree associated to a Prüfer sequence,\n",
    "    as a list of edges\"\"\"\n",
    "    \n",
    "    n = len(ps)+2\n",
    "    ps = list(ps)\n",
    "    N = list(range(n))\n",
    "    T = []\n",
    "    while len(N) > 2:\n",
    "        j = min(set(N)-set(ps))\n",
    "        T.append(sorted([j,ps[0]]))\n",
    "        N.remove(j)\n",
    "        ps.remove(ps[0])\n",
    "    T.append([N[0],N[1]])\n",
    "    return(T)\n",
    "\n",
    "def prufer(n):  \n",
    "    \"\"\"Return all Prüfer sequences of length n-2\"\"\"\n",
    "    \n",
    "    return(itertools.product(range(n), repeat=n-2))"
   ]
  },
  {
   "cell_type": "code",
   "execution_count": 3,
   "metadata": {},
   "outputs": [],
   "source": [
    "#Numerador de G_n.\n",
    "def num_G(parametros):\n",
    "    N = [i for i in range(20)]\n",
    "    for n in N:\n",
    "         if n*(n+1) == 2*len(parametros):\n",
    "            l = [parametros_selling(n)[i] == parametros[i] for i in range(len(parametros))]\n",
    "            num = G_conj(n).subs(l)\n",
    "    return (num)\n",
    "\n",
    "\n",
    "#Denominador de G_n.\n",
    "def den_G(parametros):\n",
    "    N = [i for i in range(20)]\n",
    "    for n in N:\n",
    "         if n*(n+1) == 2*len(parametros):\n",
    "            l = [parametros_selling(n)[i] == parametros[i] for i in range(len(parametros))]\n",
    "            den = 12*n*(gram(n).det().subs(l))^((n+1)/n)\n",
    "    return (den)\n",
    "\n",
    "\n",
    "#La función que calcula la constante de cuantización de un lattice, dados sus paramátros de Selling en una lista.\n",
    "\n",
    "def const_G(parametros):\n",
    "    const = num_G(parametros)/den_G(parametros).n(30)\n",
    "    return (const)"
   ]
  },
  {
   "cell_type": "code",
   "execution_count": 4,
   "metadata": {},
   "outputs": [
    {
     "data": {
      "text/plain": [
       "0.080187537"
      ]
     },
     "execution_count": 4,
     "metadata": {},
     "output_type": "execute_result"
    }
   ],
   "source": [
    "#Lattice A2* (A2)\n",
    "const_G([1,1,1])"
   ]
  },
  {
   "cell_type": "code",
   "execution_count": 5,
   "metadata": {},
   "outputs": [
    {
     "data": {
      "text/plain": [
       "0.080187537"
      ]
     },
     "execution_count": 5,
     "metadata": {},
     "output_type": "execute_result"
    }
   ],
   "source": [
    "const_G([1/2,1/2,1/2])"
   ]
  },
  {
   "cell_type": "code",
   "execution_count": 6,
   "metadata": {},
   "outputs": [
    {
     "data": {
      "text/plain": [
       "0.083333333"
      ]
     },
     "execution_count": 6,
     "metadata": {},
     "output_type": "execute_result"
    }
   ],
   "source": [
    "const_G([0,1,1])"
   ]
  },
  {
   "cell_type": "code",
   "execution_count": 7,
   "metadata": {},
   "outputs": [
    {
     "data": {
      "text/plain": [
       "0.089506173"
      ]
     },
     "execution_count": 7,
     "metadata": {},
     "output_type": "execute_result"
    }
   ],
   "source": [
    "const_G([1,1,4])"
   ]
  },
  {
   "cell_type": "code",
   "execution_count": 8,
   "metadata": {},
   "outputs": [
    {
     "data": {
      "text/plain": [
       "0.089506173"
      ]
     },
     "execution_count": 8,
     "metadata": {},
     "output_type": "execute_result"
    }
   ],
   "source": [
    "const_G([1/4,1/4,1])"
   ]
  },
  {
   "cell_type": "code",
   "execution_count": 5,
   "metadata": {},
   "outputs": [
    {
     "data": {
      "text/plain": [
       "0.078543281"
      ]
     },
     "execution_count": 5,
     "metadata": {},
     "output_type": "execute_result"
    }
   ],
   "source": [
    "#Lattice A3*\n",
    "const_G([1/4,1/4,1/4,1/4,1/4,1/4])"
   ]
  },
  {
   "cell_type": "code",
   "execution_count": 6,
   "metadata": {},
   "outputs": [
    {
     "data": {
      "text/plain": [
       "0.078543281"
      ]
     },
     "execution_count": 6,
     "metadata": {},
     "output_type": "execute_result"
    }
   ],
   "source": [
    "#Lattice A3*\n",
    "const_G([1,1,1,1,1,1])"
   ]
  },
  {
   "cell_type": "code",
   "execution_count": 7,
   "metadata": {},
   "outputs": [
    {
     "data": {
      "text/plain": [
       "0.078745066"
      ]
     },
     "execution_count": 7,
     "metadata": {},
     "output_type": "execute_result"
    }
   ],
   "source": [
    "#Lattice A3\n",
    "const_G([1,0,1,1,0,1])"
   ]
  },
  {
   "cell_type": "code",
   "execution_count": 8,
   "metadata": {},
   "outputs": [
    {
     "data": {
      "text/plain": [
       "0.077558757"
      ]
     },
     "execution_count": 8,
     "metadata": {},
     "output_type": "execute_result"
    }
   ],
   "source": [
    "#Lattice A4*\n",
    "const_G([1,1,1,1,1,1,1,1,1,1])"
   ]
  },
  {
   "cell_type": "code",
   "execution_count": 9,
   "metadata": {},
   "outputs": [
    {
     "data": {
      "text/plain": [
       "0.077558757"
      ]
     },
     "execution_count": 9,
     "metadata": {},
     "output_type": "execute_result"
    }
   ],
   "source": [
    "#Lattice A4*\n",
    "const_G([1/5,1/5,1/5,1/5,1/5,1/5,1/5,1/5,1/5,1/5])"
   ]
  },
  {
   "cell_type": "code",
   "execution_count": 10,
   "metadata": {},
   "outputs": [
    {
     "data": {
      "text/plain": [
       "0.078019702"
      ]
     },
     "execution_count": 10,
     "metadata": {},
     "output_type": "execute_result"
    }
   ],
   "source": [
    "#Lattice A4\n",
    "const_G([1,0,0,1,1,0,0,1,0,1])"
   ]
  },
  {
   "cell_type": "code",
   "execution_count": 38,
   "metadata": {},
   "outputs": [
    {
     "data": {
      "text/plain": [
       "0.076921949"
      ]
     },
     "execution_count": 38,
     "metadata": {},
     "output_type": "execute_result"
    }
   ],
   "source": [
    "#Lattice A5*\n",
    "const_G([1,1,1,1,1,1,1,1,1,1,1,1,1,1,1])"
   ]
  },
  {
   "cell_type": "code",
   "execution_count": 11,
   "metadata": {},
   "outputs": [
    {
     "data": {
      "text/plain": [
       "0.076921949"
      ]
     },
     "execution_count": 11,
     "metadata": {},
     "output_type": "execute_result"
    }
   ],
   "source": [
    "#Lattice A5*\n",
    "const_G([1/6,1/6,1/6,1/6,1/6,1/6,1/6,1/6,1/6,1/6,1/6,1/6,1/6,1/6,1/6])"
   ]
  },
  {
   "cell_type": "code",
   "execution_count": 37,
   "metadata": {},
   "outputs": [
    {
     "data": {
      "text/plain": [
       "0.077647458"
      ]
     },
     "execution_count": 37,
     "metadata": {},
     "output_type": "execute_result"
    }
   ],
   "source": [
    "#Lattice A5\n",
    "const_G([1,0,0,0,1,1,0,0,0,1,0,0,1,0,1])"
   ]
  },
  {
   "cell_type": "code",
   "execution_count": 20,
   "metadata": {},
   "outputs": [
    {
     "data": {
      "text/plain": [
       "0.0801875373874480"
      ]
     },
     "execution_count": 20,
     "metadata": {},
     "output_type": "execute_result"
    }
   ],
   "source": [
    "G_conj(2)(1,1,1)/den_G([1,1,1]).n()"
   ]
  },
  {
   "cell_type": "code",
   "execution_count": 26,
   "metadata": {},
   "outputs": [
    {
     "data": {
      "text/plain": [
       "10"
      ]
     },
     "execution_count": 26,
     "metadata": {},
     "output_type": "execute_result"
    }
   ],
   "source": [
    "G_conj(2)(1,1,1)"
   ]
  },
  {
   "cell_type": "code",
   "execution_count": 18,
   "metadata": {},
   "outputs": [
    {
     "data": {
      "text/plain": [
       "72*sqrt(3)"
      ]
     },
     "execution_count": 18,
     "metadata": {},
     "output_type": "execute_result"
    }
   ],
   "source": [
    "den_G([1,1,1])"
   ]
  },
  {
   "cell_type": "code",
   "execution_count": 23,
   "metadata": {},
   "outputs": [
    {
     "data": {
      "text/plain": [
       "0.0801875373874480"
      ]
     },
     "execution_count": 23,
     "metadata": {},
     "output_type": "execute_result"
    }
   ],
   "source": [
    "G_conj(2)(1/3,1/3,1/3)/den_G([1/3,1/3,1/3]).n()"
   ]
  },
  {
   "cell_type": "code",
   "execution_count": 27,
   "metadata": {},
   "outputs": [
    {
     "data": {
      "text/plain": [
       "10/27"
      ]
     },
     "execution_count": 27,
     "metadata": {},
     "output_type": "execute_result"
    }
   ],
   "source": [
    "G_conj(2)(1/3,1/3,1/3)"
   ]
  },
  {
   "cell_type": "code",
   "execution_count": 25,
   "metadata": {},
   "outputs": [
    {
     "data": {
      "text/plain": [
       "8*sqrt(1/3)"
      ]
     },
     "execution_count": 25,
     "metadata": {},
     "output_type": "execute_result"
    }
   ],
   "source": [
    "den_G([1/3,1/3,1/3])"
   ]
  },
  {
   "cell_type": "code",
   "execution_count": 33,
   "metadata": {},
   "outputs": [
    {
     "data": {
      "text/plain": [
       "[p01 + p12 + p13            -p12            -p13]\n",
       "[           -p12 p02 + p12 + p23            -p23]\n",
       "[           -p13            -p23 p03 + p13 + p23]"
      ]
     },
     "execution_count": 33,
     "metadata": {},
     "output_type": "execute_result"
    }
   ],
   "source": [
    "M(3)"
   ]
  },
  {
   "cell_type": "code",
   "execution_count": null,
   "metadata": {},
   "outputs": [],
   "source": []
  }
 ],
 "metadata": {
  "kernelspec": {
   "display_name": "SageMath 9.3",
   "language": "sage",
   "name": "sagemath"
  },
  "language_info": {
   "codemirror_mode": {
    "name": "ipython",
    "version": 3
   },
   "file_extension": ".py",
   "mimetype": "text/x-python",
   "name": "python",
   "nbconvert_exporter": "python",
   "pygments_lexer": "ipython3",
   "version": "3.7.10"
  }
 },
 "nbformat": 4,
 "nbformat_minor": 5
}
